{
 "cells": [
  {
   "cell_type": "code",
   "execution_count": 20,
   "metadata": {},
   "outputs": [],
   "source": [
    "import hashlib\n",
    "import os\n",
    "import time"
   ]
  },
  {
   "cell_type": "code",
   "execution_count": 31,
   "metadata": {},
   "outputs": [],
   "source": [
    "\n",
    "#获取文件的MD5值，适用于小文件\n",
    "def getFileMD5(filepath):\n",
    "    if os.path.isfile(filepath):\n",
    "        f = open(filepath,'rb')\n",
    "        md5obj = hashlib.md5()\n",
    "        md5obj.update(f.read())\n",
    "        hash = md5obj.hexdigest()\n",
    "        f.close()\n",
    "        return str(hash).upper()\n",
    "    return None\n",
    "\n",
    "def unique_img_by_md5(src):\n",
    "    file_list = os.listdir(src)\n",
    "    print(f\"{src} 目录下，共{len(os.listdir(src))}个文件\")\n",
    "    file_md5 ={}\n",
    "    for filename in file_list:\n",
    "        file_prefix = '.'.join(filename.split('.')[:-1])\n",
    "        file_type = filename.split('.')[-1]\n",
    "\n",
    "        path = src + '/' + filename\n",
    "        file_md5_v = getFileMD5(src + '/' + filename)\n",
    "        assert file_md5_v  is not None\n",
    "\n",
    "        if  file_md5_v not in file_md5:\n",
    "            file_md5[file_md5_v]=filename\n",
    "        else :\n",
    "            print(filename+\"已存在，文件名为，\"+file_md5[file_md5_v])\n",
    "            os.remove(path)\n",
    "    print(f\"查重完成，共{len(os.listdir(src))}个文件\")"
   ]
  },
  {
   "cell_type": "code",
   "execution_count": 32,
   "metadata": {},
   "outputs": [],
   "source": [
    "# 重命名文件夹下的文件\n",
    "def rename_by_time(src):\n",
    "    file_list = os.listdir(src)\n",
    "    for filename in file_list:\n",
    "        file_prefix = '.'.join(filename.split('.')[:-1])\n",
    "        file_type = filename.split('.')[-1]\n",
    "        path = src + '/' + filename\n",
    "        new_name = str(int(time.time()*1000))\n",
    "        os.rename(path,src + '/' +new_name+ '.'+file_type)"
   ]
  },
  {
   "cell_type": "code",
   "execution_count": 33,
   "metadata": {},
   "outputs": [
    {
     "name": "stdout",
     "output_type": "stream",
     "text": [
      "./dingzheng/ 目录下，共2378个文件\n",
      "查重完成，共2378个文件\n",
      "./kunkun/ 目录下，共394个文件\n",
      "查重完成，共394个文件\n"
     ]
    }
   ],
   "source": [
    "unique_img_by_md5(\"./dingzheng/\")\n",
    "unique_img_by_md5(\"./kunkun/\")"
   ]
  },
  {
   "cell_type": "code",
   "execution_count": 34,
   "metadata": {},
   "outputs": [],
   "source": [
    "rename_by_time('./kunkun/')"
   ]
  },
  {
   "cell_type": "code",
   "execution_count": null,
   "metadata": {},
   "outputs": [],
   "source": []
  }
 ],
 "metadata": {
  "kernelspec": {
   "display_name": "Python 3.10.5 64-bit",
   "language": "python",
   "name": "python3"
  },
  "language_info": {
   "codemirror_mode": {
    "name": "ipython",
    "version": 3
   },
   "file_extension": ".py",
   "mimetype": "text/x-python",
   "name": "python",
   "nbconvert_exporter": "python",
   "pygments_lexer": "ipython3",
   "version": "3.10.5"
  },
  "orig_nbformat": 4,
  "vscode": {
   "interpreter": {
    "hash": "767d51c1340bd893661ea55ea3124f6de3c7a262a8b4abca0554b478b1e2ff90"
   }
  }
 },
 "nbformat": 4,
 "nbformat_minor": 2
}
